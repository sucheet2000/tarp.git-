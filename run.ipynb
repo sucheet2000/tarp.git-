{
 "cells": [
  {
   "cell_type": "code",
   "execution_count": 1,
   "metadata": {},
   "outputs": [],
   "source": [
    "from flask import Flask, render_template, url_for, request, session, redirect\n",
    "from tensorflow.keras.applications.imagenet_utils import preprocess_input, decode_predictions\n",
    "from werkzeug.utils import secure_filename\n",
    "from tensorflow.keras.models import load_model\n",
    "import os\n",
    "from flask_pymongo import PyMongo\n",
    "from tensorflow.keras.preprocessing import image\n",
    "import smtplib\n",
    "\n",
    "import bcrypt\n",
    "import pickle\n",
    "import numpy as np\n",
    "app = Flask(__name__)\n",
    "\n",
    "mongo1 = PyMongo(app, uri = 'mongodb://127.0.0.1:27017/Patient')\n",
    "mongo2 = PyMongo(app, uri = 'mongodb://127.0.0.1:27017/doctors')"
   ]
  },
  {
   "cell_type": "code",
   "execution_count": 2,
   "metadata": {},
   "outputs": [
    {
     "data": {
      "text/plain": [
       "(235, b'2.7.0 Accepted')"
      ]
     },
     "execution_count": 2,
     "metadata": {},
     "output_type": "execute_result"
    }
   ],
   "source": [
    "s = smtplib.SMTP('smtp.gmail.com', 587)\n",
    "s.starttls()\n",
    "my_id = \"iamepicwin80@gmail.com\"\n",
    "s.login(my_id, \"sucheet2000\")"
   ]
  },
  {
   "cell_type": "code",
   "execution_count": null,
   "metadata": {},
   "outputs": [],
   "source": []
  },
  {
   "cell_type": "code",
   "execution_count": 3,
   "metadata": {},
   "outputs": [
    {
     "name": "stdout",
     "output_type": "stream",
     "text": [
      "done\n",
      "done\n",
      "done\n"
     ]
    }
   ],
   "source": [
    "pickle_in = open(\"classifier_heart.pkl\",\"rb\")\n",
    "classifier_heart_disease=pickle.load(pickle_in)\n",
    "print(\"done\")\n",
    "pickle_in = open(\"breast_cancer_model.pkl\",\"rb\")\n",
    "breast_cancer_model=pickle.load(pickle_in)\n",
    "print(\"done\")\n",
    "MODEL_PATH ='cnn_model.h5'\n",
    "dengue_model = load_model(MODEL_PATH)\n",
    "print(\"done\")\n",
    "pickle_in = open(\"classifier_diabetes.pkl\",\"rb\")\n",
    "classifier_diabetes_disease=pickle.load(pickle_in)"
   ]
  },
  {
   "cell_type": "code",
   "execution_count": null,
   "metadata": {},
   "outputs": [],
   "source": []
  },
  {
   "cell_type": "code",
   "execution_count": 4,
   "metadata": {},
   "outputs": [],
   "source": [
    "@app.route('/',methods = ['POST','GET'])\n",
    "def index():\n",
    "    if 'email' in session:\n",
    "        return render_template('iwp_features.html')    \n",
    "    return render_template('index.html')"
   ]
  },
  {
   "cell_type": "code",
   "execution_count": 5,
   "metadata": {},
   "outputs": [],
   "source": [
    "@app.route('/to_decider',methods = ['POST','GET'])\n",
    "def to_decider():\n",
    "    if request.method==\"GET\":\n",
    "        return render_template('patient_or_doctor.html')    "
   ]
  },
  {
   "cell_type": "code",
   "execution_count": 6,
   "metadata": {},
   "outputs": [],
   "source": [
    "@app.route('/decider',methods = ['POST','GET'])\n",
    "def decider():\n",
    "    if request.method==\"POST\":\n",
    "        \n",
    "        roll = request.form['roll']\n",
    "        if roll==\"doctor\":\n",
    "            return render_template('register_doctor.html')\n",
    "        else:\n",
    "            return render_template('register_patient.html')"
   ]
  },
  {
   "cell_type": "code",
   "execution_count": 7,
   "metadata": {},
   "outputs": [],
   "source": [
    "@app.route('/selected_disease',methods = ['POST','GET'])\n",
    "def selected_disease():\n",
    "    if request.method==\"POST\":\n",
    "        \n",
    "        disease = request.form['Disease']\n",
    "        if disease == \"heart_disease\":\n",
    "            return render_template('iwp_features.html')\n",
    "        if disease == \"dengue\":\n",
    "            return render_template('dengue.html')\n",
    "        if disease == \"diabetes\":\n",
    "            return render_template('diabetes.html')\n",
    "        if disease == \"breast_cancer\":\n",
    "            return render_template('breast_cancer.html')"
   ]
  },
  {
   "cell_type": "code",
   "execution_count": 8,
   "metadata": {},
   "outputs": [],
   "source": [
    "@app.route('/predict_heart_disease',methods=[\"POST\"])\n",
    "def predict_heart_disease():\n",
    "    users = mongo1.db.collection\n",
    "    login_user = users.find_one({'email' : session['email']})\n",
    "    if request.method == \"POST\":\n",
    "        Age = request.form[\"Age\"]\n",
    "        Cholestrol = request.form[\"Cholestrol\"]\n",
    "        oldpeak = request.form[\"oldpeak\"]\n",
    "        Max_HR = request.form[\"Max_HR\"]\n",
    "        x = np.asarray([[Age,Cholestrol,oldpeak,Max_HR]], dtype='float64')\n",
    "        prediction = str(classifier_heart_disease.predict(x))\n",
    "        if prediction=='[0]':\n",
    "            prediction = \"No heart disease\"\n",
    "            msg = \"Subject: %s\\n\\n%s\"%(\"Heart report\", \"you are healthy\" )\n",
    "        else:\n",
    "            prediction = \"HEART DISEASE PREDICTED\"\n",
    "            msg = \"Subject: %s\\n\\n%s\"%(\"Heart report\", \"Please see a Doctor\" )\n",
    "        s.sendmail(my_id, session['email'], msg)\n",
    "    \n",
    "        users.update_one({\"email\":session['email']},{\"$set\":{\"status\":prediction}})\n",
    "        return render_template(\"iwp_features.html\",msg = \"Result: \"+prediction)\n",
    "    return None"
   ]
  },
  {
   "cell_type": "code",
   "execution_count": 9,
   "metadata": {},
   "outputs": [],
   "source": [
    "@app.route('/predict_diabetes',methods=[\"POST\"])\n",
    "def predict_diabetes():\n",
    "    users = mongo1.db.collection\n",
    "    login_user = users.find_one({'email' : session['email']})\n",
    "    if request.method == \"POST\":\n",
    "        Glucose = request.form[\"Glucose\"]\n",
    "        BMI = request.form[\"BMI\"]\n",
    "        Age = request.form[\"Age\"]\n",
    "        x = np.asarray([[Glucose, BMI, Age]], dtype='float64')\n",
    "        prediction = str(classifier_diabetes_disease.predict(x))\n",
    "        if prediction=='[0]':\n",
    "            prediction = \"You are Safe\"\n",
    "            msg = \"Subject: %s\\n\\n%s\"%(\"Diabetes report\", \"you are healthy\" )\n",
    "        else:\n",
    "            prediction = \"Diabetes detected\"\n",
    "            msg = \"Subject: %s\\n\\n%s\"%(\"Diabetes report\", \"Please see a doctor, you are suffering from diabetes\" )\n",
    "        s.sendmail(my_id, session['email'], msg)\n",
    "        users.update_one({\"email\":session['email']},{\"$set\":{\"status\":prediction}})\n",
    "        return render_template(\"diabetes.html\",msg = \"Result: \"+prediction)\n",
    "    return None"
   ]
  },
  {
   "cell_type": "code",
   "execution_count": 10,
   "metadata": {},
   "outputs": [],
   "source": [
    "@app.route('/predict_breast_cancer',methods=[\"POST\"])\n",
    "def predict_breast_cancer():\n",
    "    print(\"inside breast cancer\")\n",
    "    users = mongo1.db.collection\n",
    "    login_user = users.find_one({'email' : session['email']})\n",
    "    if request.method == \"POST\":\n",
    "        radius_mean = request.form[\"radius_mean\"]\n",
    "        perimeter_mean = request.form[\"perimeter_mean\"]\n",
    "        perimeter_worst = request.form[\"perimeter_worst\"]\n",
    "        x = np.asarray([[radius_mean,perimeter_mean,perimeter_worst]], dtype='float64')\n",
    "        prediction = str(breast_cancer_model.predict(x))\n",
    "        if prediction=='[0]':\n",
    "            prediction = \"Benign\"\n",
    "            msg = \"Subject: %s\\n\\n%s\"%(\"Breast cancer report\", \"you are healthy\" )\n",
    "        else:\n",
    "            prediction = \"Melignant\"\n",
    "            \n",
    "            msg = \"Subject: %s\\n\\n%s\"%(\"Breast cancer report\", \"See a doctor, You're suffering from breast cancer\" )\n",
    "            \n",
    "        s.sendmail(my_id, session['email'], msg)\n",
    "        users.update_one({\"email\":session['email']},{\"$set\":{\"status\":prediction}})\n",
    "        return render_template(\"breast_cancer.html\",msg = \"Result: \"+prediction)\n",
    "    return None"
   ]
  },
  {
   "cell_type": "code",
   "execution_count": 11,
   "metadata": {},
   "outputs": [],
   "source": [
    "@app.route('/predict_dengue', methods=['GET', 'POST'])\n",
    "def predict_dengue():\n",
    "    msg = \"\"\n",
    "    if request.method == 'POST':\n",
    "        f = request.files['file']\n",
    "        basepath = os.path.dirname(f.filename)\n",
    "        file_path = os.path.join(basepath, 'uploads', secure_filename(f.filename))\n",
    "        f.save(file_path)\n",
    "        preds,msg = d_predict(file_path,dengue_model)\n",
    "        session['status']+=preds\n",
    "        \n",
    "        s.sendmail(my_id, session['email'], msg)\n",
    "        return render_template(\"dengue.html\",msg = \"Result: \"+preds)\n",
    "    return None"
   ]
  },
  {
   "cell_type": "code",
   "execution_count": 12,
   "metadata": {},
   "outputs": [],
   "source": [
    "def d_predict(file_path,model):\n",
    "    img = image.load_img(file_path,target_size=(224, 224))\n",
    "    x = image.img_to_array(img)\n",
    "    x = x/255\n",
    "    x = np.expand_dims(x, axis=0)\n",
    "    preds = model.predict(x)\n",
    "    preds=np.argmax(preds, axis=1)\n",
    "    if preds==0:\n",
    "        preds = \"INFECTED\"\n",
    "        msg = \"Subject: %s\\n\\n%s\"%(\"Dengue report\", \"You're infected with dengue. Please see a doctor\" )\n",
    "    else:\n",
    "        preds = \"uninfected\"\n",
    "        msg = \"Subject: %s\\n\\n%s\"%(\"Dengue report\", \"you are healthy\" )\n",
    "    return preds,msg"
   ]
  },
  {
   "cell_type": "code",
   "execution_count": 13,
   "metadata": {},
   "outputs": [],
   "source": [
    "@app.route('/login', methods=['POST','GET'])\n",
    "def login():\n",
    "    msg=\"\"\n",
    "    \n",
    "    users_patient = mongo1.db.collection\n",
    "    login_patients = users_patient.find_one({'email' : request.form['email']})\n",
    "    \n",
    "    if login_patients:\n",
    "        if bcrypt.hashpw(request.form['password'].encode('utf-8'), login_patients['password']) == login_patients['password']:\n",
    "            session['email'] = request.form['email']\n",
    "            session['Name'] = login_patients['Patient Name']\n",
    "            session['status'] = login_patients['status']\n",
    "            print(\"logged in\")\n",
    "            return render_template('select_disease.html')\n",
    "        \n",
    "    users_doctor = mongo2.db.collection\n",
    "    login_doctors = users_doctor.find_one({'email' : request.form['email']})\n",
    "    if login_doctors:\n",
    "        if bcrypt.hashpw(request.form['password'].encode('utf-8'), login_doctors['password']) == login_doctors['password']:\n",
    "            session['email'] = request.form['email']\n",
    "            display = []\n",
    "            for record in users_patient.find({},{\"_id\":0,\"Patient Name\":1,\"Address\":1,\"email\":1 }):\n",
    "                display.append(record)\n",
    "            #display = users_patient.find({},{\"_id\":0,\"Patient Name\":1,\"Address\":1,\"email\":1 })\n",
    "            return render_template(\"doc_feat.html\",display =  display)\n",
    "            \n",
    "    msg = 'Invalid username/password combination'\n",
    "    return render_template('index.html',msg = msg)    "
   ]
  },
  {
   "cell_type": "code",
   "execution_count": 14,
   "metadata": {},
   "outputs": [],
   "source": [
    "@app.route('/register_patient', methods=['POST', 'GET'])\n",
    "def register_patient():\n",
    "    msg = \"\"\n",
    "    if request.method == 'POST':\n",
    "        patients = mongo1.db.collection\n",
    "        existing_patients = patients.find_one({'email' : request.form['email']})\n",
    "\n",
    "        if existing_patients is None:\n",
    "            hashpass = bcrypt.hashpw(request.form['password'].encode('utf-8'), bcrypt.gensalt())\n",
    "            patients.insert_one({'Patient Name' : request.form['Name'],'email':request.form['email'], 'password' : hashpass,'Address':request.form['Address'],'status':'unknown'})\n",
    "            session['email'] = request.form['email']\n",
    "            session['status'] = 'unknown'\n",
    "            msg = \"you have successfully registered\"\n",
    "            #return redirect(url_for('index'))  #sending to index function\n",
    "            return render_template('index.html',msg=msg)\n",
    "        return 'That email already exists!'\n",
    "\n",
    "    return render_template('register_patient.html',msg = msg)"
   ]
  },
  {
   "cell_type": "code",
   "execution_count": 15,
   "metadata": {},
   "outputs": [],
   "source": [
    "@app.route('/register_doctor', methods=['POST', 'GET'])\n",
    "def register_doctor():\n",
    "    msg = \"\"\n",
    "    if request.method == 'POST':\n",
    "        doctors = mongo2.db.collection\n",
    "        existing_doctors = doctors.find_one({'email' : request.form['email']})\n",
    "\n",
    "        if existing_doctors is None:\n",
    "            hashpass = bcrypt.hashpw(request.form['password'].encode('utf-8'), bcrypt.gensalt())\n",
    "            doctors.insert_one({'Patient Name' : request.form['Name'],'email':request.form['email'], 'password' : hashpass,'Address':request.form['Address']})\n",
    "            session['email'] = request.form['email']\n",
    "            session['status'] = 'unknown'\n",
    "            msg = \"you have successfully registered\"\n",
    "            #return redirect(url_for('index'))  #sending to index function\n",
    "            return render_template('index.html',msg=msg)\n",
    "        return 'That email already exists!'\n",
    "\n",
    "    return render_template('register.html',msg = msg)"
   ]
  },
  {
   "cell_type": "code",
   "execution_count": 16,
   "metadata": {},
   "outputs": [],
   "source": [
    "@app.route('/logout') \n",
    "def logout(): \n",
    "    msg=\"\"\n",
    "    session.pop('email', None) \n",
    "    session.pop('Name', None) \n",
    "    return render_template('index.html',msg = \"Successfully logged out\")"
   ]
  },
  {
   "cell_type": "code",
   "execution_count": 17,
   "metadata": {},
   "outputs": [],
   "source": [
    "@app.route('/trick',methods=[\"POST\"])\n",
    "def trick():\n",
    "    \n",
    "    prediction = \"YOU ARE HEALTHY :)\"\n",
    "    return render_template(\"diabetes.html\", msg = \"Result: \"+prediction)\n",
    "\n",
    "    '''users = mongo1.db.collection\n",
    "    login_user = users.find_one({'email' : session['email']})\n",
    "    if request.method == \"POST\":\n",
    "        Glucose = request.form[\"Glucose\"]\n",
    "        BMI = request.form[\"BMI\"]\n",
    "        Age = request.form[\"Age\"]\n",
    "        x = np.asarray([[Glucose, BMI, Age]], dtype='float64')\n",
    "        prediction = str(classifier_diabetes_disease.predict(x))\n",
    "        if prediction=='[0]':\n",
    "            prediction = \"You are Safe\"\n",
    "            msg = \"Subject: %s\\n\\n%s\"%(\"Diabetes report\", \"you are healthy\" )\n",
    "        else:\n",
    "            prediction = \"Diabetes detected\"\n",
    "            msg = \"Subject: %s\\n\\n%s\"%(\"Diabetes report\", \"Please see a doctor, you are suffering from diabetes\" )\n",
    "        s.sendmail(my_id, session['email'], msg)\n",
    "        users.update_one({\"email\":session['email']},{\"$set\":{\"status\":prediction}})\n",
    "        return render_template(\"diabetes.html\",msg = \"Result: \"+prediction)\n",
    "    return None'''"
   ]
  },
  {
   "cell_type": "code",
   "execution_count": null,
   "metadata": {},
   "outputs": [
    {
     "name": "stdout",
     "output_type": "stream",
     "text": [
      " * Serving Flask app \"__main__\" (lazy loading)\n",
      " * Environment: production\n",
      "   WARNING: This is a development server. Do not use it in a production deployment.\n",
      "   Use a production WSGI server instead.\n",
      " * Debug mode: off\n"
     ]
    },
    {
     "name": "stderr",
     "output_type": "stream",
     "text": [
      " * Running on http://127.0.0.1:5000/ (Press CTRL+C to quit)\n",
      "127.0.0.1 - - [10/Dec/2021 02:17:09] \"\u001b[37mGET / HTTP/1.1\u001b[0m\" 200 -\n",
      "127.0.0.1 - - [10/Dec/2021 02:17:09] \"\u001b[33mGET /styles.css HTTP/1.1\u001b[0m\" 404 -\n",
      "127.0.0.1 - - [10/Dec/2021 02:17:09] \"\u001b[33mGET /favicon.ico HTTP/1.1\u001b[0m\" 404 -\n",
      "127.0.0.1 - - [10/Dec/2021 02:17:15] \"\u001b[37mGET /logout HTTP/1.1\u001b[0m\" 200 -\n",
      "127.0.0.1 - - [10/Dec/2021 02:17:15] \"\u001b[33mGET /styles.css HTTP/1.1\u001b[0m\" 404 -\n",
      "127.0.0.1 - - [10/Dec/2021 02:17:25] \"\u001b[37mPOST /login HTTP/1.1\u001b[0m\" 200 -\n"
     ]
    },
    {
     "name": "stdout",
     "output_type": "stream",
     "text": [
      "logged in\n"
     ]
    },
    {
     "name": "stderr",
     "output_type": "stream",
     "text": [
      "127.0.0.1 - - [10/Dec/2021 02:17:25] \"\u001b[33mGET /styles.css HTTP/1.1\u001b[0m\" 404 -\n",
      "127.0.0.1 - - [10/Dec/2021 02:17:46] \"\u001b[37mPOST /selected_disease HTTP/1.1\u001b[0m\" 200 -\n",
      "127.0.0.1 - - [10/Dec/2021 02:17:46] \"\u001b[33mGET /styles.css HTTP/1.1\u001b[0m\" 404 -\n"
     ]
    },
    {
     "name": "stdout",
     "output_type": "stream",
     "text": [
      "inside breast cancer\n"
     ]
    },
    {
     "name": "stderr",
     "output_type": "stream",
     "text": [
      "127.0.0.1 - - [10/Dec/2021 02:17:55] \"\u001b[37mPOST /predict_breast_cancer HTTP/1.1\u001b[0m\" 200 -\n",
      "127.0.0.1 - - [10/Dec/2021 02:17:56] \"\u001b[33mGET /styles.css HTTP/1.1\u001b[0m\" 404 -\n"
     ]
    },
    {
     "name": "stdout",
     "output_type": "stream",
     "text": [
      "inside breast cancer\n"
     ]
    },
    {
     "name": "stderr",
     "output_type": "stream",
     "text": [
      "127.0.0.1 - - [10/Dec/2021 02:19:22] \"\u001b[37mPOST /predict_breast_cancer HTTP/1.1\u001b[0m\" 200 -\n",
      "127.0.0.1 - - [10/Dec/2021 02:19:22] \"\u001b[33mGET /styles.css HTTP/1.1\u001b[0m\" 404 -\n"
     ]
    },
    {
     "name": "stdout",
     "output_type": "stream",
     "text": [
      "inside breast cancer\n"
     ]
    },
    {
     "name": "stderr",
     "output_type": "stream",
     "text": [
      "127.0.0.1 - - [10/Dec/2021 02:20:09] \"\u001b[37mPOST /predict_breast_cancer HTTP/1.1\u001b[0m\" 200 -\n",
      "127.0.0.1 - - [10/Dec/2021 02:20:09] \"\u001b[33mGET /styles.css HTTP/1.1\u001b[0m\" 404 -\n"
     ]
    },
    {
     "name": "stdout",
     "output_type": "stream",
     "text": [
      "inside breast cancer\n"
     ]
    },
    {
     "name": "stderr",
     "output_type": "stream",
     "text": [
      "127.0.0.1 - - [10/Dec/2021 02:20:17] \"\u001b[37mPOST /predict_breast_cancer HTTP/1.1\u001b[0m\" 200 -\n",
      "127.0.0.1 - - [10/Dec/2021 02:20:17] \"\u001b[33mGET /styles.css HTTP/1.1\u001b[0m\" 404 -\n",
      "127.0.0.1 - - [10/Dec/2021 02:20:44] \"\u001b[37mGET /logout HTTP/1.1\u001b[0m\" 200 -\n",
      "127.0.0.1 - - [10/Dec/2021 02:20:44] \"\u001b[33mGET /styles.css HTTP/1.1\u001b[0m\" 404 -\n",
      "127.0.0.1 - - [10/Dec/2021 02:20:50] \"\u001b[37mPOST /login HTTP/1.1\u001b[0m\" 200 -\n",
      "127.0.0.1 - - [10/Dec/2021 02:20:51] \"\u001b[33mGET /styles.css HTTP/1.1\u001b[0m\" 404 -\n"
     ]
    },
    {
     "name": "stdout",
     "output_type": "stream",
     "text": [
      "logged in\n"
     ]
    },
    {
     "name": "stderr",
     "output_type": "stream",
     "text": [
      "127.0.0.1 - - [10/Dec/2021 02:20:53] \"\u001b[37mPOST /selected_disease HTTP/1.1\u001b[0m\" 200 -\n",
      "127.0.0.1 - - [10/Dec/2021 02:20:53] \"\u001b[33mGET /styles.css HTTP/1.1\u001b[0m\" 404 -\n",
      "127.0.0.1 - - [10/Dec/2021 02:21:28] \"\u001b[37mPOST /predict_dengue HTTP/1.1\u001b[0m\" 200 -\n",
      "127.0.0.1 - - [10/Dec/2021 02:21:28] \"\u001b[33mGET /styles.css HTTP/1.1\u001b[0m\" 404 -\n",
      "127.0.0.1 - - [10/Dec/2021 02:22:10] \"\u001b[37mPOST /predict_dengue HTTP/1.1\u001b[0m\" 200 -\n",
      "127.0.0.1 - - [10/Dec/2021 02:22:10] \"\u001b[33mGET /styles.css HTTP/1.1\u001b[0m\" 404 -\n",
      "127.0.0.1 - - [10/Dec/2021 02:22:34] \"\u001b[37mGET /logout HTTP/1.1\u001b[0m\" 200 -\n",
      "127.0.0.1 - - [10/Dec/2021 02:22:34] \"\u001b[33mGET /styles.css HTTP/1.1\u001b[0m\" 404 -\n",
      "127.0.0.1 - - [10/Dec/2021 02:22:42] \"\u001b[37mPOST /login HTTP/1.1\u001b[0m\" 200 -\n",
      "127.0.0.1 - - [10/Dec/2021 02:22:42] \"\u001b[33mGET /styles.css HTTP/1.1\u001b[0m\" 404 -\n"
     ]
    },
    {
     "name": "stdout",
     "output_type": "stream",
     "text": [
      "logged in\n"
     ]
    },
    {
     "name": "stderr",
     "output_type": "stream",
     "text": [
      "127.0.0.1 - - [10/Dec/2021 02:22:45] \"\u001b[37mPOST /selected_disease HTTP/1.1\u001b[0m\" 200 -\n",
      "127.0.0.1 - - [10/Dec/2021 02:22:46] \"\u001b[33mGET /styles.css HTTP/1.1\u001b[0m\" 404 -\n",
      "127.0.0.1 - - [10/Dec/2021 02:22:58] \"\u001b[37mPOST /predict_heart_disease HTTP/1.1\u001b[0m\" 200 -\n",
      "127.0.0.1 - - [10/Dec/2021 02:22:59] \"\u001b[33mGET /styles.css HTTP/1.1\u001b[0m\" 404 -\n",
      "127.0.0.1 - - [10/Dec/2021 02:23:42] \"\u001b[37mPOST /predict_heart_disease HTTP/1.1\u001b[0m\" 200 -\n",
      "127.0.0.1 - - [10/Dec/2021 02:23:43] \"\u001b[33mGET /styles.css HTTP/1.1\u001b[0m\" 404 -\n",
      "127.0.0.1 - - [10/Dec/2021 02:24:08] \"\u001b[37mGET /logout HTTP/1.1\u001b[0m\" 200 -\n",
      "127.0.0.1 - - [10/Dec/2021 02:24:08] \"\u001b[33mGET /styles.css HTTP/1.1\u001b[0m\" 404 -\n",
      "127.0.0.1 - - [10/Dec/2021 02:24:15] \"\u001b[37mPOST /login HTTP/1.1\u001b[0m\" 200 -\n",
      "127.0.0.1 - - [10/Dec/2021 02:24:16] \"\u001b[33mGET /styles.css HTTP/1.1\u001b[0m\" 404 -\n"
     ]
    },
    {
     "name": "stdout",
     "output_type": "stream",
     "text": [
      "logged in\n"
     ]
    },
    {
     "name": "stderr",
     "output_type": "stream",
     "text": [
      "127.0.0.1 - - [10/Dec/2021 02:24:18] \"\u001b[37mPOST /selected_disease HTTP/1.1\u001b[0m\" 200 -\n",
      "127.0.0.1 - - [10/Dec/2021 02:24:18] \"\u001b[33mGET /styles.css HTTP/1.1\u001b[0m\" 404 -\n",
      "127.0.0.1 - - [10/Dec/2021 02:24:24] \"\u001b[37mPOST /trick HTTP/1.1\u001b[0m\" 200 -\n",
      "127.0.0.1 - - [10/Dec/2021 02:24:25] \"\u001b[33mGET /styles.css HTTP/1.1\u001b[0m\" 404 -\n",
      "127.0.0.1 - - [10/Dec/2021 02:25:00] \"\u001b[37mPOST /trick HTTP/1.1\u001b[0m\" 200 -\n",
      "127.0.0.1 - - [10/Dec/2021 02:25:00] \"\u001b[33mGET /styles.css HTTP/1.1\u001b[0m\" 404 -\n",
      "127.0.0.1 - - [10/Dec/2021 02:25:11] \"\u001b[37mPOST /trick HTTP/1.1\u001b[0m\" 200 -\n",
      "127.0.0.1 - - [10/Dec/2021 02:25:11] \"\u001b[33mGET /styles.css HTTP/1.1\u001b[0m\" 404 -\n",
      "127.0.0.1 - - [10/Dec/2021 02:25:19] \"\u001b[37mPOST /trick HTTP/1.1\u001b[0m\" 200 -\n",
      "127.0.0.1 - - [10/Dec/2021 02:25:19] \"\u001b[33mGET /styles.css HTTP/1.1\u001b[0m\" 404 -\n",
      "127.0.0.1 - - [10/Dec/2021 02:25:35] \"\u001b[37mPOST /trick HTTP/1.1\u001b[0m\" 200 -\n",
      "127.0.0.1 - - [10/Dec/2021 02:25:35] \"\u001b[33mGET /styles.css HTTP/1.1\u001b[0m\" 404 -\n",
      "127.0.0.1 - - [10/Dec/2021 02:25:48] \"\u001b[37mPOST /trick HTTP/1.1\u001b[0m\" 200 -\n",
      "127.0.0.1 - - [10/Dec/2021 02:25:48] \"\u001b[33mGET /styles.css HTTP/1.1\u001b[0m\" 404 -\n"
     ]
    }
   ],
   "source": [
    "if __name__ == '__main__':\n",
    "    app.secret_key = 'mysecret'\n",
    "    app.run()"
   ]
  },
  {
   "cell_type": "code",
   "execution_count": null,
   "metadata": {},
   "outputs": [],
   "source": []
  },
  {
   "cell_type": "code",
   "execution_count": null,
   "metadata": {},
   "outputs": [],
   "source": []
  }
 ],
 "metadata": {
  "kernelspec": {
   "display_name": "Python 3",
   "language": "python",
   "name": "python3"
  },
  "language_info": {
   "codemirror_mode": {
    "name": "ipython",
    "version": 3
   },
   "file_extension": ".py",
   "mimetype": "text/x-python",
   "name": "python",
   "nbconvert_exporter": "python",
   "pygments_lexer": "ipython3",
   "version": "3.8.5"
  }
 },
 "nbformat": 4,
 "nbformat_minor": 4
}
